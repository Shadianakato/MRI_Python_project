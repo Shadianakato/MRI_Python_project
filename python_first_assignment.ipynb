{
 "cells": [
  {
   "cell_type": "markdown",
   "metadata": {},
   "source": [
    "### Generate scan IDs: This function creates a list of numbers from 1001 to 1010 using list comprehension and returns it. The result is printed when the function is called."
   ]
  },
  {
   "cell_type": "code",
   "execution_count": null,
   "metadata": {},
   "outputs": [
    {
     "name": "stdout",
     "output_type": "stream",
     "text": [
      "[1001, 1002, 1003, 1004, 1005, 1006, 1007, 1008, 1009, 1010]\n"
     ]
    }
   ],
   "source": [
    "def generate_scan_ids():\n",
    "    \"\"\"\n",
    "    Exercise 13: Generate a list of scan IDs from 1001 to 1010 using list comprehension.\n",
    "    \n",
    "    Returns:\n",
    "        list: List of scan IDs from 1001 to 1010\n",
    "    \"\"\"\n",
    "    # Use list comprehension to generate scan IDs from 1001 to 1010\n",
    "    scan_ids = [i for i in range(1001, 1011)]\n",
    "    return scan_ids\n",
    "\n",
    "# Call the function and print the result\n",
    "print(generate_scan_ids())\n"
   ]
  },
  {
   "cell_type": "markdown",
   "metadata": {},
   "source": [
    "### Filter_scan_times function:\n",
    "- This function filters the scan_times list to only include scan times greater than 10 minutes.\n",
    "- The list comprehension [time for time in scan_times if time > 10] checks each time in scan_times, and if it's greater than 10, it adds it to the new list long_scans.\n",
    "- The function then returns the list long_scans, which contains the scan times greater than 10 minutes."
   ]
  },
  {
   "cell_type": "code",
   "execution_count": 3,
   "metadata": {},
   "outputs": [
    {
     "name": "stdout",
     "output_type": "stream",
     "text": [
      "[12.8, 15.1]\n"
     ]
    }
   ],
   "source": [
    "def filter_scan_times():\n",
    "    \"\"\"\n",
    "    Exercise 14: Given scan_times = [5.2, 12.8, 9.3, 15.1, 7.4],\n",
    "    use list comprehension to create a new list with times greater than 10 minutes.\n",
    "    \n",
    "    Returns:\n",
    "        list: List of scan times greater than 10 minutes\n",
    "    \"\"\"\n",
    "    scan_times = [5.2, 12.8, 9.3, 15.1, 7.4]\n",
    "    \n",
    "    # Use list comprehension to filter scan times greater than 10\n",
    "    long_scans = [time for time in scan_times if time > 10]\n",
    "    \n",
    "    return long_scans\n",
    "\n",
    "# Call and print the result\n",
    "print(filter_scan_times())\n"
   ]
  },
  {
   "cell_type": "markdown",
   "metadata": {},
   "source": [
    "### extract_patient_names function: This function extracts the names of patients from a list of dictionaries. It uses list comprehension to loop through each dictionary and access the \"Name\" key. The result is a list of patient names."
   ]
  },
  {
   "cell_type": "code",
   "execution_count": null,
   "metadata": {},
   "outputs": [
    {
     "name": "stdout",
     "output_type": "stream",
     "text": [
      "[45, 60, 35]\n"
     ]
    }
   ],
   "source": [
    "def extract_patient_names():\n",
    "    \"\"\"\n",
    "    Exercise 15: Given a list of patient dictionaries, extract all patient names using list comprehension.\n",
    "    \n",
    "    Returns:\n",
    "        list: List of patient names\n",
    "    \"\"\"\n",
    "    patients = [\n",
    "        {\"Name\": \"Alice\", \"Age\": 45},\n",
    "        {\"Name\": \"Bob\", \"Age\": 60},\n",
    "        {\"Name\": \"Charlie\", \"Age\": 35}\n",
    "    ]\n",
    "    \n",
    "    # Use list comprehension to extract the \"Name\" field from each patient dictionary\n",
    "    patient_names = [patient[\"Name\"] for patient in patients]\n",
    "    \n",
    "    return patient_names\n",
    "\n",
    "# Call and print the result\n",
    "print(extract_patient_names())\n"
   ]
  },
  {
   "cell_type": "markdown",
   "metadata": {},
   "source": [
    "### get_image_widths function: This function extracts the width values from a list of image resolutions. It splits each resolution string by the character 'x' and takes the first part (the width), converting it to an integer. The result is a list of widths."
   ]
  },
  {
   "cell_type": "code",
   "execution_count": null,
   "metadata": {},
   "outputs": [
    {
     "name": "stdout",
     "output_type": "stream",
     "text": [
      "[258, 512, 1024]\n"
     ]
    }
   ],
   "source": [
    "def get_image_widths():\n",
    "    \"\"\"\n",
    "    Exercise 16: Given resolutions = [\"256x256\", \"512x512\", \"1024x1024\"],\n",
    "    extract only the width values as integers using list comprehension.\n",
    "    \n",
    "    Returns:\n",
    "        list: List of width values as integers\n",
    "    \"\"\"\n",
    "    resolutions = [\"256x256\", \"512x512\", \"1024x1024\"]\n",
    "    \n",
    "    # Use list comprehension to extract the width value from each resolution string\n",
    "    widths = [int(res.split('x')[0]) for res in resolutions]\n",
    "    \n",
    "    return widths\n",
    "\n",
    "# Call and print the result\n",
    "print(get_image_widths())\n"
   ]
  },
  {
   "cell_type": "markdown",
   "metadata": {},
   "source": [
    "### classify_suv_values function: This function classifies SUV values as \"high\" if the value is greater than 3.5 and as \"low\" if it is not. It uses list comprehension with a conditional expression to achieve this."
   ]
  },
  {
   "cell_type": "code",
   "execution_count": 4,
   "metadata": {},
   "outputs": [
    {
     "name": "stdout",
     "output_type": "stream",
     "text": [
      "['low', 'high', 'low', 'high', 'high']\n"
     ]
    }
   ],
   "source": [
    "def classify_suv_values():\n",
    "    \"\"\"\n",
    "    Exercise 17: Given SUV values, classify them as \"high\" if > 3.5, otherwise \"low\".\n",
    "    \n",
    "    Returns:\n",
    "        list: List of classifications (\"high\" or \"low\")\n",
    "    \"\"\"\n",
    "    suv_values = [2.3, 4.1, 1.8, 5.6, 3.9]\n",
    "    \n",
    "    # Use list comprehension to classify each SUV value as \"high\" or \"low\"\n",
    "    classifications = [\"high\" if value > 3.5 else \"low\" for value in suv_values]\n",
    "    \n",
    "    return classifications\n",
    "\n",
    "# Call and print the result\n",
    "print(classify_suv_values())\n"
   ]
  },
  {
   "cell_type": "markdown",
   "metadata": {},
   "source": [
    "### generate_report_titles function: This function generates report titles by appending \" Report\" to each modality name (e.g., \"MRI\", \"CT\", \"X-ray\"). It uses list comprehension to create the list of titles."
   ]
  },
  {
   "cell_type": "code",
   "execution_count": null,
   "metadata": {},
   "outputs": [
    {
     "name": "stdout",
     "output_type": "stream",
     "text": [
      "['MRI Report', 'CT Report', 'X-ray Report']\n"
     ]
    }
   ],
   "source": [
    "def generate_report_titles():\n",
    "    \"\"\"\n",
    "    Exercise 18: Create report titles for each modality (e.g., \"MRI Report\", \"CT Report\").\n",
    "    \n",
    "    Returns:\n",
    "        list: List of report titles\n",
    "    \"\"\"\n",
    "    modalities = [\"MRI\", \"CT\", \"X-ray\"]\n",
    "    \n",
    "    # Use list comprehension to generate report titles by appending \" Report\" to each modality\n",
    "    reports = [modality + \" Report\" for modality in modalities]\n",
    "    \n",
    "    return reports\n",
    "\n",
    "# Call and print the result\n",
    "print(generate_report_titles())\n"
   ]
  },
  {
   "cell_type": "markdown",
   "metadata": {},
   "source": [
    "### filter_scan_durations function: This function filters out scan durations greater than 30 minutes. It uses list comprehension to include only the values from scan_durations that are less than or equal to 30."
   ]
  },
  {
   "cell_type": "code",
   "execution_count": 7,
   "metadata": {},
   "outputs": [
    {
     "name": "stdout",
     "output_type": "stream",
     "text": [
      "[20, 25, 30, 12, 15]\n"
     ]
    }
   ],
   "source": [
    "def filter_scan_durations():\n",
    "    \"\"\"\n",
    "    Exercise 19: Filter out scan times greater than 30 minutes.\n",
    "    \n",
    "    Returns:\n",
    "        list: List of scan durations <= 30 minutes\n",
    "    \"\"\"\n",
    "    scan_durations = [20, 25, 30, 12, 40, 15]\n",
    "    \n",
    "    # Use list comprehension to filter out scan durations greater than 30 minutes\n",
    "    filtered_times = [duration for duration in scan_durations if duration <= 30]\n",
    "    \n",
    "    return filtered_times\n",
    "\n",
    "# Call and print the result\n",
    "print(filter_scan_durations())\n"
   ]
  },
  {
   "cell_type": "markdown",
   "metadata": {},
   "source": [
    "### get_even_indexed_slices function: This function extracts values from the slice_thicknesses list that are located at even indices (e.g., index / position 0, 2, 4, ...). It uses list comprehension to filter the values based on their indices."
   ]
  },
  {
   "cell_type": "code",
   "execution_count": 10,
   "metadata": {},
   "outputs": [
    {
     "name": "stdout",
     "output_type": "stream",
     "text": [
      "[1.5, 2.5, 5.0]\n"
     ]
    }
   ],
   "source": [
    "def get_even_indexed_slices():\n",
    "    \"\"\"\n",
    "    Exercise 20: Extract values at even indices from slice_thicknesses.\n",
    "    \n",
    "    Returns:\n",
    "        list: List of values at even indices\n",
    "    \"\"\"\n",
    "    slice_thicknesses = [1.5, 3.0, 2.5, 4.0, 5.0, 6.5]\n",
    "    \n",
    "    # Use list comprehension to extract values at even indices (0, 2, 4, ...)\n",
    "    even_indexed = [slice_thicknesses[i] for i in range(len(slice_thicknesses)) if i % 2 == 0]\n",
    "    \n",
    "    return even_indexed\n",
    "\n",
    "# Call and print the result\n",
    "print(get_even_indexed_slices())\n"
   ]
  }
 ],
 "metadata": {
  "kernelspec": {
   "display_name": "Python 3",
   "language": "python",
   "name": "python3"
  },
  "language_info": {
   "codemirror_mode": {
    "name": "ipython",
    "version": 3
   },
   "file_extension": ".py",
   "mimetype": "text/x-python",
   "name": "python",
   "nbconvert_exporter": "python",
   "pygments_lexer": "ipython3",
   "version": "3.10.1"
  }
 },
 "nbformat": 4,
 "nbformat_minor": 2
}
